{
 "cells": [
  {
   "cell_type": "code",
   "execution_count": 2,
   "metadata": {},
   "outputs": [],
   "source": [
    "from apex_legends_api import ApexLegendsAPI,\\\n",
    "    ALPlatform,\\\n",
    "    ALPlayer,\\\n",
    "    ALAction,\\\n",
    "    ALHTTPExceptionFromResponse\n",
    "from apex_legends_api.al_base import print_description\n",
    "from apex_key import key\n",
    "\n",
    "api = ApexLegendsAPI(api_key=key)"
   ]
  },
  {
   "cell_type": "code",
   "execution_count": 5,
   "metadata": {},
   "outputs": [
    {
     "name": "stdout",
     "output_type": "stream",
     "text": [
      "[{'global': {'name': 'Katiounette', 'uid': 2802354833, 'avatar': '', 'platform': 'PC', 'level': 5, 'toNextLevelPercent': 44, 'internalUpdateCount': 37, 'bans': {'isActive': False, 'remainingSeconds': 0, 'last_banReason': 'NONE'}, 'rank': {'rankScore': 0, 'rankName': 'Unranked', 'rankDiv': 0, 'ladderPosPlatform': -1, 'rankImg': 'https://api.mozambiquehe.re/assets/ranks/unranked4.png', 'rankedSeason': 'season16_split_1'}, 'arena': {'rankScore': 0, 'rankName': 'Unranked', 'rankDiv': 0, 'ladderPosPlatform': -1, 'rankImg': 'https://api.mozambiquehe.re/assets/ranks/unranked4.png', 'rankedSeason': 'arenas16_split_1'}, 'battlepass': {'level': '-1', 'history': {'season1': -1, 'season2': -1, 'season3': -1, 'season4': -1, 'season5': -1, 'season6': -1, 'season7': -1, 'season8': -1, 'season9': -1, 'season10': -1, 'season11': -1, 'season12': -1, 'season13': -1, 'season14': -1}}, 'internalParsingVersion': 1, 'badges': None, 'levelPrestige': 0}, 'realtime': {'lobbyState': 'open', 'isOnline': 0, 'isInGame': 0, 'canJoin': 0, 'partyFull': 0, 'selectedLegend': 'Lifeline', 'currentState': 'offline', 'currentStateSinceTimestamp': -1, 'currentStateAsText': 'Offline'}, 'legends': {'selected': {'LegendName': 'Lifeline', 'data': [{'name': 'BR Kills', 'value': 1, 'key': 'kills', 'global': False}], 'gameInfo': {'skin': 'Brain Candy', 'skinRarity': 'Rare', 'frame': 'Rookie Card', 'frameRarity': 'Common', 'pose': 'Talking Game', 'poseRarity': 'Rare', 'intro': 'None', 'introRarity': 'None', 'badges': [{'name': 'Account Level', 'value': 6, 'category': 'Account Badges'}, {'name': None, 'value': 0, 'category': 'Account Badges'}, {'name': None, 'value': 0, 'category': 'Account Badges'}]}, 'ImgAssets': {'icon': 'https://api.mozambiquehe.re/assets/icons/lifeline.png', 'banner': 'https://api.mozambiquehe.re/assets/banners/lifeline.jpg'}}, 'all': {'Revenant': {'ImgAssets': {'icon': 'https://api.mozambiquehe.re/assets/icons/revenant.png', 'banner': 'https://api.mozambiquehe.re/assets/banners/revenant.jpg'}}, 'Crypto': {'ImgAssets': {'icon': 'https://api.mozambiquehe.re/assets/icons/crypto.png', 'banner': 'https://api.mozambiquehe.re/assets/banners/crypto.jpg'}}, 'Horizon': {'ImgAssets': {'icon': 'https://api.mozambiquehe.re/assets/icons/horizon.png', 'banner': 'https://api.mozambiquehe.re/assets/banners/horizon.jpg'}}, 'Gibraltar': {'ImgAssets': {'icon': 'https://api.mozambiquehe.re/assets/icons/gibraltar.png', 'banner': 'https://api.mozambiquehe.re/assets/banners/gibraltar.jpg'}}, 'Wattson': {'ImgAssets': {'icon': 'https://api.mozambiquehe.re/assets/icons/wattson.png', 'banner': 'https://api.mozambiquehe.re/assets/banners/wattson.jpg'}}, 'Fuse': {'ImgAssets': {'icon': 'https://api.mozambiquehe.re/assets/icons/fuse.png', 'banner': 'https://api.mozambiquehe.re/assets/banners/fuse.jpg'}}, 'Bangalore': {'ImgAssets': {'icon': 'https://api.mozambiquehe.re/assets/icons/bangalore.png', 'banner': 'https://api.mozambiquehe.re/assets/banners/bangalore.jpg'}}, 'Wraith': {'ImgAssets': {'icon': 'https://api.mozambiquehe.re/assets/icons/wraith.png', 'banner': 'https://api.mozambiquehe.re/assets/banners/wraith.jpg'}}, 'Octane': {'ImgAssets': {'icon': 'https://api.mozambiquehe.re/assets/icons/octane.png', 'banner': 'https://api.mozambiquehe.re/assets/banners/octane.jpg'}}, 'Bloodhound': {'ImgAssets': {'icon': 'https://api.mozambiquehe.re/assets/icons/bloodhound.png', 'banner': 'https://api.mozambiquehe.re/assets/banners/bloodhound.jpg'}}, 'Caustic': {'ImgAssets': {'icon': 'https://api.mozambiquehe.re/assets/icons/caustic.png', 'banner': 'https://api.mozambiquehe.re/assets/banners/caustic.jpg'}}, 'Lifeline': {'data': [{'name': 'BR Kills', 'value': 1, 'key': 'kills', 'rank': {'rankPos': 3888695, 'topPercent': 82.91}, 'rankPlatformSpecific': {'rankPos': 1196535, 'topPercent': 94.09}}], 'ImgAssets': {'icon': 'https://api.mozambiquehe.re/assets/icons/lifeline.png', 'banner': 'https://api.mozambiquehe.re/assets/banners/lifeline.jpg'}}, 'Pathfinder': {'ImgAssets': {'icon': 'https://api.mozambiquehe.re/assets/icons/pathfinder.png', 'banner': 'https://api.mozambiquehe.re/assets/banners/pathfinder.jpg'}}, 'Loba': {'ImgAssets': {'icon': 'https://api.mozambiquehe.re/assets/icons/loba.png', 'banner': 'https://api.mozambiquehe.re/assets/banners/loba.jpg'}}, 'Mirage': {'ImgAssets': {'icon': 'https://api.mozambiquehe.re/assets/icons/mirage.png', 'banner': 'https://api.mozambiquehe.re/assets/banners/mirage.jpg'}}, 'Rampart': {'ImgAssets': {'icon': 'https://api.mozambiquehe.re/assets/icons/rampart.png', 'banner': 'https://api.mozambiquehe.re/assets/banners/rampart.jpg'}}, 'Valkyrie': {'ImgAssets': {'icon': 'https://api.mozambiquehe.re/assets/icons/valkyrie.png', 'banner': 'https://api.mozambiquehe.re/assets/banners/valkyrie.jpg'}}, 'Seer': {'ImgAssets': {'icon': 'https://api.mozambiquehe.re/assets/icons/seer.png', 'banner': 'https://api.mozambiquehe.re/assets/banners/seer.jpg'}}, 'Ash': {'ImgAssets': {'icon': 'https://api.mozambiquehe.re/assets/icons/ash.png', 'banner': 'https://api.mozambiquehe.re/assets/banners/ash.jpg'}}, 'Mad Maggie': {'ImgAssets': {'icon': 'https://api.mozambiquehe.re/assets/icons/mad maggie.png', 'banner': 'https://api.mozambiquehe.re/assets/banners/mad maggie.jpg'}}, 'Newcastle': {'ImgAssets': {'icon': 'https://api.mozambiquehe.re/assets/icons/newcastle.png', 'banner': 'https://api.mozambiquehe.re/assets/banners/newcastle.jpg'}}, 'Vantage': {'ImgAssets': {'icon': 'https://api.mozambiquehe.re/assets/icons/vantage.png', 'banner': 'https://api.mozambiquehe.re/assets/banners/vantage.jpg'}}, 'Catalyst': {'ImgAssets': {'icon': 'https://api.mozambiquehe.re/assets/icons/catalyst.png', 'banner': 'https://api.mozambiquehe.re/assets/banners/catalyst.jpg'}}}}, 'mozambiquehere_internal': {'isNewToDB': False, 'claimedBy': '1677359128', 'APIAccessType': 'BASIC', 'ClusterID': '5', 'rate_limit': {'max_per_second': 2, 'current_req': None}, 'clusterSrv': 'MAIN-CLUSTER-2'}, 'ALS': {'isALSDataEnabled': False}, 'total': {'kills': {'name': 'BR Kills', 'value': 1}, 'kd': {'value': '-1', 'name': 'KD'}}}]\n"
     ]
    }
   ],
   "source": [
    "player_name = str(\"Katiounette\")\n",
    "platform = ALPlatform.PC\n",
    "action = ALAction.GET\n",
    "\n",
    "basic = api.basic_player_stats(player_name=player_name, platform=platform)\n",
    "history = api.events(player_name=player_name, platform=platform, action=action)\n",
    "origin_player = api.get_player_origin(player_name=player_name, show_all_hits=True)\n",
    "\n",
    "print(basic)"
   ]
  },
  {
   "cell_type": "code",
   "execution_count": 6,
   "metadata": {},
   "outputs": [
    {
     "name": "stdout",
     "output_type": "stream",
     "text": [
      "[]\n"
     ]
    }
   ],
   "source": [
    "print(history)"
   ]
  },
  {
   "cell_type": "code",
   "execution_count": 7,
   "metadata": {},
   "outputs": [
    {
     "name": "stdout",
     "output_type": "stream",
     "text": [
      "[{'name': 'Katiounette', 'uid': '2802354833', 'pid': '829804871', 'avatar': ''}]\n"
     ]
    }
   ],
   "source": [
    "print(origin_player)"
   ]
  }
 ],
 "metadata": {
  "kernelspec": {
   "display_name": "Python 3",
   "language": "python",
   "name": "python3"
  },
  "language_info": {
   "codemirror_mode": {
    "name": "ipython",
    "version": 3
   },
   "file_extension": ".py",
   "mimetype": "text/x-python",
   "name": "python",
   "nbconvert_exporter": "python",
   "pygments_lexer": "ipython3",
   "version": "3.10.4"
  },
  "orig_nbformat": 4,
  "vscode": {
   "interpreter": {
    "hash": "a7ce6c5f3f05fb9fcff59059ff67f476542d5497c11a082badfb26244c77e35c"
   }
  }
 },
 "nbformat": 4,
 "nbformat_minor": 2
}
